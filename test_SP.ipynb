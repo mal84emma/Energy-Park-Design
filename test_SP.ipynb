{
 "cells": [
  {
   "cell_type": "code",
   "execution_count": null,
   "metadata": {},
   "outputs": [],
   "source": [
    "import os\n",
    "import random\n",
    "import numpy as np\n",
    "import warnings"
   ]
  },
  {
   "cell_type": "code",
   "execution_count": null,
   "metadata": {},
   "outputs": [],
   "source": [
    "import energy_model\n",
    "import utils"
   ]
  },
  {
   "cell_type": "code",
   "execution_count": null,
   "metadata": {},
   "outputs": [],
   "source": [
    "import importlib\n",
    "importlib.reload(energy_model)\n",
    "importlib.reload(utils)"
   ]
  },
  {
   "cell_type": "code",
   "execution_count": null,
   "metadata": {},
   "outputs": [],
   "source": [
    "from energy_model import EnergyModel\n",
    "from utils.data_handling import ScenarioData\n",
    "from utils.gurobi_env import get_Gurobi_WLS_env"
   ]
  },
  {
   "cell_type": "code",
   "execution_count": null,
   "metadata": {},
   "outputs": [],
   "source": [
    "from configs.config import *"
   ]
  },
  {
   "cell_type": "code",
   "execution_count": null,
   "metadata": {},
   "outputs": [],
   "source": [
    "# create test scenario data\n",
    "\n",
    "ts_dict = {\n",
    "    'load_level': 2.5e5,\n",
    "    'wind_year': 2010,\n",
    "    'solar_year': 2010,\n",
    "    'price_year': 2023,\n",
    "    'carbon_year': 2023\n",
    "}\n",
    "\n",
    "cost_dict = { # sense check costs by LCOE\n",
    "    'wind_capex': 5e3, # €/kWp\n",
    "    'wind_opex': 100, # €/kWp/yr\n",
    "    'wind_lifetime': 20, # years\n",
    "    'solar_capex': 1e3, # €/kWp\n",
    "    'solar_opex': 10, # €/kWp/yr\n",
    "    'solar_lifetime': 20, # years\n",
    "    'carbon_price': 1.0 # €/kgCO2\n",
    "}\n",
    "\n",
    "storage_dict = {\n",
    "    'li-ion': {\n",
    "        'cost': 300,\n",
    "        'lifetime': 12,\n",
    "        'efficiency': 0.9,\n",
    "        'discharge_ratio': 0.4\n",
    "    },\n",
    "    'other': {\n",
    "        'cost': 100,\n",
    "        'lifetime': 20,\n",
    "        'efficiency': 0.5,\n",
    "        'discharge_ratio': 0.2\n",
    "    },\n",
    "    'other2': {\n",
    "        'cost': 175,\n",
    "        'lifetime': 20,\n",
    "        'efficiency': 0.8,\n",
    "        'discharge_ratio': 0.2\n",
    "    }\n",
    "}"
   ]
  },
  {
   "cell_type": "code",
   "execution_count": null,
   "metadata": {},
   "outputs": [],
   "source": [
    "scenarios = []\n",
    "random.seed(42)\n",
    "for m in range(1):\n",
    "    ts_dict['wind_year'] = random.choice(wind_years)\n",
    "    ts_dict['solar_year'] = random.choice(solar_years)\n",
    "    scenario = ScenarioData(ts_dict, cost_dict, storage_dict)\n",
    "    scenario.load_timeseries(dataset_dir)\n",
    "    scenarios.append(scenario)"
   ]
  },
  {
   "cell_type": "code",
   "execution_count": null,
   "metadata": {},
   "outputs": [],
   "source": [
    "settings = {\n",
    "    'T':8760,\n",
    "    'initial_SoC':0.5,\n",
    "    'max_storage_cap':1e9, # slack bound\n",
    "    'N_technologies': 2,\n",
    "    'allow_elec_purchase': True,\n",
    "    'grid_capacity': 500e3, # kW\n",
    "    'capex_budget': 10e9/20, # €/yr\n",
    "    'solar_capacity_limit': 500e3, # kWp\n",
    "    #'technologies_to_use': ['li-ion'],\n",
    "}"
   ]
  },
  {
   "cell_type": "markdown",
   "metadata": {},
   "source": [
    "Note:\n",
    "1. You need to be careful that the capex budget is sufficiently large to allow the purchase of enough generation capacity to satisfy the plant demand\n",
    "2. The solar capacity limit is needed to make sure that the optimised solar capacity is not infeasibly large due to land area, solar PV is approx 1kWp/m2"
   ]
  },
  {
   "cell_type": "code",
   "execution_count": null,
   "metadata": {},
   "outputs": [],
   "source": [
    "model = EnergyModel()\n",
    "with warnings.catch_warnings():\n",
    "    # filter pandas warnings, `DeprecationWarning: np.find_common_type is deprecated.`\n",
    "    warnings.simplefilter(\"ignore\", category=FutureWarning)\n",
    "    model.generate_SP(scenarios,settings)"
   ]
  },
  {
   "cell_type": "code",
   "execution_count": null,
   "metadata": {},
   "outputs": [],
   "source": [
    "env = get_Gurobi_WLS_env(silence=False)\n",
    "model.solve(env=env)"
   ]
  },
  {
   "cell_type": "code",
   "execution_count": null,
   "metadata": {},
   "outputs": [],
   "source": [
    "print(model.model.objective)\n",
    "print(model.scenarios[0].load @ model.scenarios[0].elec_prices)\n",
    "print(model.corrected_objective)"
   ]
  },
  {
   "cell_type": "code",
   "execution_count": null,
   "metadata": {},
   "outputs": [],
   "source": [
    "print('wind capacity', model.model.variables.wind_capacity.solution.values)\n",
    "print('solar capacity', model.model.variables.solar_capacity.solution.values)\n",
    "print('storage capacities', [getattr(model.model.variables,f'{tech}_capacity').solution.values for tech in model.techs])"
   ]
  },
  {
   "cell_type": "code",
   "execution_count": null,
   "metadata": {},
   "outputs": [],
   "source": [
    "for key,val in model.scen_obj_contrs[0].items():\n",
    "    print(key,val.solution.values)"
   ]
  },
  {
   "cell_type": "code",
   "execution_count": null,
   "metadata": {},
   "outputs": [],
   "source": [
    "print(sum([model.scen_obj_contrs[0][key] for key in ['wind','solar','storage']]).solution.values)"
   ]
  },
  {
   "cell_type": "code",
   "execution_count": null,
   "metadata": {},
   "outputs": [],
   "source": [
    "energy_flares = model.get_flared_energy()\n",
    "print(energy_flares['s0']['energy_dump'].sum().values)\n",
    "print(energy_flares['s0']['generation_curtailment'].sum().values)\n",
    "# ToDo plot energy flares against generation & electricity price"
   ]
  },
  {
   "cell_type": "code",
   "execution_count": null,
   "metadata": {},
   "outputs": [],
   "source": [
    "battery_cycles = model.get_battery_cycles()\n",
    "print(battery_cycles)"
   ]
  },
  {
   "cell_type": "code",
   "execution_count": null,
   "metadata": {},
   "outputs": [],
   "source": [
    "from utils.plotting import init_profile_fig, add_profile"
   ]
  },
  {
   "cell_type": "code",
   "execution_count": null,
   "metadata": {},
   "outputs": [],
   "source": [
    "fig = init_profile_fig(y_titles={'y1':'Energy flow (kWh)', 'y2':'State of Charge (kWh)', 'y3':'Price ($/kWh)'})\n",
    "\n",
    "fig = add_profile(fig, model.grid_energies[0].solution.values, name='Grid load')\n",
    "fig = add_profile(fig, model.scenarios[0].norm_wind_gen*model.model.variables.wind_capacity.solution.values, name=f'Wind generation')\n",
    "fig = add_profile(fig, model.scenarios[0].norm_solar_gen*model.model.variables.solar_capacity.solution.values, name=f'Solar generation')\n",
    "fig = add_profile(fig, model.scenarios[0].elec_prices, name='Electricity price', yaxis='y3', visible='legendonly')\n",
    "for i,tech in enumerate(model.techs):\n",
    "    if model.model.variables[f'{tech}_capacity'].solution > 0:\n",
    "        fig = add_profile(fig, getattr(model.model.variables,f'SOC_i{i}_s0').solution, name=f'{tech} SoC', yaxis=f'y2', visible='legendonly')\n",
    "\n",
    "#fig['layout']['xaxis'].update(range=['2000-04-24','2000-05-01'])\n",
    "fig.write_html(f'temp_plot.html')\n",
    "fig.show()"
   ]
  },
  {
   "cell_type": "code",
   "execution_count": null,
   "metadata": {},
   "outputs": [],
   "source": [
    "fig = init_profile_fig(y_titles={'y1':'Energy flow (kWh)', 'y2':'State of Charge (kWh)', 'y3':'Price ($/kWh)'})\n",
    "\n",
    "fig = add_profile(fig, model.grid_energies[0].solution.values, name='Grid load')\n",
    "fig = add_profile(fig, energy_flares['s0']['energy_dump'].values, name=f'Energy dumped')\n",
    "fig = add_profile(fig, energy_flares['s0']['generation_curtailment'].values, name=f'Generation curtailment')\n",
    "fig = add_profile(fig, model.scenarios[0].norm_wind_gen*model.model.variables.wind_capacity.solution.values + model.scenarios[0].norm_solar_gen*model.model.variables.solar_capacity.solution.values, name=f'Total generation')\n",
    "fig = add_profile(fig, model.scenarios[0].elec_prices, name='Electricity price', yaxis='y3', visible='legendonly')\n",
    "\n",
    "#fig['layout']['xaxis'].update(range=['2000-04-24','2000-05-01'])\n",
    "fig.write_html(f'temp_plot2.html')\n",
    "fig.show()"
   ]
  },
  {
   "cell_type": "code",
   "execution_count": null,
   "metadata": {},
   "outputs": [],
   "source": []
  }
 ],
 "metadata": {
  "kernelspec": {
   "display_name": "EP-VOI",
   "language": "python",
   "name": "python3"
  },
  "language_info": {
   "codemirror_mode": {
    "name": "ipython",
    "version": 3
   },
   "file_extension": ".py",
   "mimetype": "text/x-python",
   "name": "python",
   "nbconvert_exporter": "python",
   "pygments_lexer": "ipython3",
   "version": "3.9.19"
  }
 },
 "nbformat": 4,
 "nbformat_minor": 2
}
