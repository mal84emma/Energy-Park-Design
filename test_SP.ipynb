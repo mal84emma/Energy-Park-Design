{
 "cells": [
  {
   "cell_type": "code",
   "execution_count": null,
   "metadata": {},
   "outputs": [],
   "source": [
    "import os\n",
    "import numpy as np"
   ]
  },
  {
   "cell_type": "code",
   "execution_count": null,
   "metadata": {},
   "outputs": [],
   "source": [
    "import energy_model\n",
    "import utils"
   ]
  },
  {
   "cell_type": "code",
   "execution_count": null,
   "metadata": {},
   "outputs": [],
   "source": [
    "import importlib\n",
    "importlib.reload(energy_model)\n",
    "importlib.reload(utils)"
   ]
  },
  {
   "cell_type": "code",
   "execution_count": null,
   "metadata": {},
   "outputs": [],
   "source": [
    "from energy_model import EnergyModel\n",
    "from utils.data_handling import ScenarioData\n",
    "from utils.gurobi_env import get_Gurobi_WLS_env"
   ]
  },
  {
   "cell_type": "code",
   "execution_count": null,
   "metadata": {},
   "outputs": [],
   "source": [
    "dataset_dir = os.path.join('data','processed')"
   ]
  },
  {
   "cell_type": "code",
   "execution_count": null,
   "metadata": {},
   "outputs": [],
   "source": [
    "# create test scenario data\n",
    "\n",
    "ts_dict = {\n",
    "    'load_level': 3e5,\n",
    "    'wind_year': 2010,\n",
    "    'solar_year': 2010,\n",
    "    'price_year': 2023,\n",
    "    'carbon_year': 2023\n",
    "}\n",
    "\n",
    "cost_dict = { # sense check costs by LCOE\n",
    "    'wind_capex': 5e3, # €/kWp\n",
    "    'wind_opex': 100, # €/kWp/yr\n",
    "    'wind_lifetime': 20, # years\n",
    "    'solar_capex': 1e3, # €/kWp\n",
    "    'solar_opex': 10, # €/kWp/yr\n",
    "    'solar_lifetime': 20, # years\n",
    "    'carbon_price': 1.0 # €/kgCO2\n",
    "}\n",
    "\n",
    "storage_dict = {\n",
    "    'li-ion': {\n",
    "        'cost': 300,\n",
    "        'lifetime': 12,\n",
    "        'efficiency': 0.9,\n",
    "        'discharge_ratio': 0.4\n",
    "    },\n",
    "    'other': {\n",
    "        'cost': 100,\n",
    "        'lifetime': 20,\n",
    "        'efficiency': 0.5,\n",
    "        'discharge_ratio': 0.2\n",
    "    },\n",
    "    'other2': {\n",
    "        'cost': 175,\n",
    "        'lifetime': 20,\n",
    "        'efficiency': 0.8,\n",
    "        'discharge_ratio': 0.2\n",
    "    }\n",
    "}"
   ]
  },
  {
   "cell_type": "code",
   "execution_count": null,
   "metadata": {},
   "outputs": [],
   "source": [
    "scenario = ScenarioData(ts_dict, cost_dict, storage_dict)\n",
    "scenario.load_timeseries(dataset_dir)"
   ]
  },
  {
   "cell_type": "code",
   "execution_count": null,
   "metadata": {},
   "outputs": [],
   "source": [
    "settings = {\n",
    "    'T':8760,\n",
    "    'initial_SoC':0.5,\n",
    "    'max_storage_cap':1e9, # slack bound\n",
    "    'N_technologies': 2,\n",
    "    'grid_capacity': 500e3, # kW\n",
    "    'capex_budget': 10e9/20, # €/yr\n",
    "    'solar_capacity_limit': 500e3, # kWp\n",
    "}"
   ]
  },
  {
   "cell_type": "markdown",
   "metadata": {},
   "source": [
    "Note:\n",
    "1. You need to be careful that the capex budget is sufficiently large to allow the purchase of enough generation capacity to satisfy the plant demand\n",
    "2. The solar capacity limit is needed to make sure that the optimised solar capacity is not infeasibly large due to land area"
   ]
  },
  {
   "cell_type": "code",
   "execution_count": null,
   "metadata": {},
   "outputs": [],
   "source": [
    "model = EnergyModel()\n",
    "model.generate_SP([scenario],settings)"
   ]
  },
  {
   "cell_type": "code",
   "execution_count": null,
   "metadata": {},
   "outputs": [],
   "source": [
    "env = get_Gurobi_WLS_env(silence=False)\n",
    "model.model.solve(env=env)"
   ]
  },
  {
   "cell_type": "code",
   "execution_count": null,
   "metadata": {},
   "outputs": [],
   "source": [
    "print(scenario.load@scenario.elec_prices)"
   ]
  },
  {
   "cell_type": "code",
   "execution_count": null,
   "metadata": {},
   "outputs": [],
   "source": [
    "print(model.model.objective)"
   ]
  },
  {
   "cell_type": "code",
   "execution_count": null,
   "metadata": {},
   "outputs": [],
   "source": [
    "print('wind capacity', model.model.variables.wind_capacity.solution.values)\n",
    "print('solar capacity', model.model.variables.solar_capacity.solution.values)\n",
    "print('storage capacities', [getattr(model.model.variables,f'{tech}_capacity').solution.values for tech in model.techs])"
   ]
  },
  {
   "cell_type": "code",
   "execution_count": null,
   "metadata": {},
   "outputs": [],
   "source": [
    "for key,val in model.scen_obj_contrs[0].items():\n",
    "    print(key,val.solution.values)"
   ]
  },
  {
   "cell_type": "code",
   "execution_count": null,
   "metadata": {},
   "outputs": [],
   "source": [
    "print(sum([model.scen_obj_contrs[0][key] for key in ['wind','solar','storage']]).solution.values)"
   ]
  },
  {
   "cell_type": "code",
   "execution_count": null,
   "metadata": {},
   "outputs": [],
   "source": []
  }
 ],
 "metadata": {
  "kernelspec": {
   "display_name": "EP-VOI",
   "language": "python",
   "name": "python3"
  },
  "language_info": {
   "codemirror_mode": {
    "name": "ipython",
    "version": 3
   },
   "file_extension": ".py",
   "mimetype": "text/x-python",
   "name": "python",
   "nbconvert_exporter": "python",
   "pygments_lexer": "ipython3",
   "version": "3.9.19"
  }
 },
 "nbformat": 4,
 "nbformat_minor": 2
}
