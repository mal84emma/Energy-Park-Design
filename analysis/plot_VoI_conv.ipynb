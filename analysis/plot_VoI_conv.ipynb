{
 "cells": [
  {
   "cell_type": "markdown",
   "metadata": {},
   "source": [
    "# Plot comparison of costs of restricted and open designs, and resulting VoO estimate convergence"
   ]
  },
  {
   "cell_type": "code",
   "execution_count": 1,
   "metadata": {},
   "outputs": [],
   "source": [
    "# Hack to emulate running notebook from root directory.\n",
    "import os\n",
    "os.chdir('..')"
   ]
  },
  {
   "cell_type": "code",
   "execution_count": 2,
   "metadata": {},
   "outputs": [],
   "source": [
    "import yaml\n",
    "import numpy as np\n",
    "import itertools\n",
    "\n",
    "from configs import get_experiment_config\n",
    "\n",
    "from collections import Counter\n",
    "import matplotlib.pyplot as plt\n",
    "import seaborn as sns"
   ]
  },
  {
   "cell_type": "markdown",
   "metadata": {},
   "source": [
    "#### Load design results for selected experiment"
   ]
  },
  {
   "cell_type": "code",
   "execution_count": 3,
   "metadata": {},
   "outputs": [],
   "source": [
    "expt_name = 'base'"
   ]
  },
  {
   "cell_type": "code",
   "execution_count": 4,
   "metadata": {},
   "outputs": [],
   "source": [
    "settings, base_params = get_experiment_config(expt_name)\n",
    "available_technologies = list(settings['probability_settings']['storage'].keys())\n",
    "tech_combos = list(itertools.combinations(available_technologies, settings['model_settings']['N_technologies']))\n",
    "tech_combos_strs = ['-'.join(t) for t in tech_combos]\n",
    "N = settings['probability_settings']['n_prior_samples']"
   ]
  },
  {
   "cell_type": "code",
   "execution_count": 5,
   "metadata": {},
   "outputs": [],
   "source": [
    "if settings['model_settings']['N_technologies'] == 2:\n",
    "    colors = list(plt.cm.Dark2.colors)\n",
    "else:\n",
    "    colors = list(plt.cm.tab10.colors)"
   ]
  },
  {
   "cell_type": "code",
   "execution_count": 6,
   "metadata": {},
   "outputs": [],
   "source": [
    "none_results = yaml.safe_load(open(os.path.join(*settings['results_dir'],'prior','none_design.yaml')))\n",
    "prior_design_results_files = [os.path.join(*settings['results_dir'],'prior',f'{techs}_design.yaml') for techs in tech_combos_strs]\n",
    "prior_results = [yaml.safe_load(open(f)) for f in prior_design_results_files]\n",
    "prior_opt_results = yaml.safe_load(open(os.path.join(*settings['results_dir'],'prior','best_design.yaml')))\n",
    "\n",
    "result_dir_path_pattern = os.path.join(*settings['results_dir'],'posterior','z_scenario_{z}')\n",
    "\n",
    "open_design_results_files = [os.path.join(result_dir_path_pattern.format(z=z),'open_design.yaml') for z in range(N)]\n",
    "open_results = [yaml.safe_load(open(f)) for f in open_design_results_files]\n",
    "restricted_design_results_files = [os.path.join(result_dir_path_pattern.format(z=z),'restricted_design.yaml') for z in range(N)]\n",
    "restricted_results = [yaml.safe_load(open(f)) for f in restricted_design_results_files]"
   ]
  },
  {
   "cell_type": "markdown",
   "metadata": {},
   "source": [
    "Note: comment on cost reduction from adding storage. (Compare cost to none design case)\n",
    "\n",
    "Despite a very small proportion of the budget being spent on storage, it really reduces the cost!\n",
    "\n",
    "A small amount of storage gives great returns on capital!"
   ]
  },
  {
   "cell_type": "markdown",
   "metadata": {},
   "source": [
    "Quick bit of pre-analysis"
   ]
  },
  {
   "cell_type": "code",
   "execution_count": null,
   "metadata": {},
   "outputs": [],
   "source": [
    "# Load cost data\n",
    "no_storage_cost = none_results['overall_objective']['overall_objective']\n",
    "prior_cost = prior_opt_results['overall_objective']['overall_objective']\n",
    "prior_techs = prior_opt_results['design']['storage_technologies']\n",
    "restricted_expected_cost = np.mean([res['overall_objective']['overall_objective'] for res in restricted_results])\n",
    "open_expected_cost = np.mean([res['overall_objective']['overall_objective'] for res in open_results])\n",
    "\n",
    "for i, techs in enumerate(tech_combos_strs):\n",
    "    print(f'Prior cost, {techs}: {prior_results[i][\"overall_objective\"][\"overall_objective\"]/1e6:.2f} €m/yr')\n",
    "print('')\n",
    "\n",
    "print(f'No storage cost: {no_storage_cost/1e6:.2f} €m/yr')\n",
    "print(f'Prior cost: {prior_cost/1e6:.2f} €m/yr, {prior_techs}')\n",
    "print(f'Restricted expected cost: {restricted_expected_cost/1e6:.2f} €m/yr')\n",
    "print(f'Open expected cost: {open_expected_cost/1e6:.2f} €m/yr')"
   ]
  },
  {
   "cell_type": "code",
   "execution_count": null,
   "metadata": {},
   "outputs": [],
   "source": [
    "# Investigate average system design for restricted case\n",
    "print('Posterior restricted systems:')\n",
    "print('Av. wind: ', np.mean([res['design']['wind_capacity']['value'] for res in restricted_results]))\n",
    "print('Av. solar: ', np.mean([res['design']['solar_capacity']['value'] for res in restricted_results]))\n",
    "print('Av. storage: ', np.mean([np.sum([res['design']['storage_capacities'][tech]['value'] for tech in prior_techs]) for res in restricted_results]))"
   ]
  },
  {
   "cell_type": "code",
   "execution_count": null,
   "metadata": {},
   "outputs": [],
   "source": [
    "# Compute cost differences\n",
    "print(f'Storage benefit: {(no_storage_cost - prior_cost)/1e6:.2f} €m/yr ({(no_storage_cost - prior_cost)/no_storage_cost*100:.1f}%)')\n",
    "storage_cost = prior_opt_results['overall_objective']['overall_storage_cost']\n",
    "print(f'Storage cost: {storage_cost/1e6:.2f} €m/yr')\n",
    "print('')\n",
    "print(f'VoI: {(prior_cost - restricted_expected_cost)/1e6:.2f} €m/yr ({(prior_cost - restricted_expected_cost)/prior_cost*100:.1f}%)')\n",
    "print(f'VoO: {(restricted_expected_cost - open_expected_cost)/1e6:.2f} €m/yr ({(restricted_expected_cost - open_expected_cost)/restricted_expected_cost*100:.1f}%)')"
   ]
  },
  {
   "cell_type": "code",
   "execution_count": null,
   "metadata": {},
   "outputs": [],
   "source": [
    "# Compute associated carbon savings\n",
    "carbon_cost = base_params['cost_values']['carbon_price']\n",
    "no_storage_carbon = none_results['overall_objective']['overall_carbon_cost']\n",
    "prior_carbon = prior_opt_results['overall_objective']['overall_carbon_cost']\n",
    "restricted_expected_carbon = np.mean([res['overall_objective']['overall_carbon_cost'] for res in restricted_results])\n",
    "open_expected_carbon = np.mean([res['overall_objective']['overall_carbon_cost'] for res in open_results])\n",
    "\n",
    "print(f'No storage carbon cost: {no_storage_carbon/1e3:.0f} tCO2/yr')\n",
    "print(f'Storage carbon benefit: {(no_storage_carbon - prior_carbon)/(carbon_cost*1e3):.0f} tCO2/yr')\n",
    "print(f'Unc. red. carbon benefit: {(prior_carbon - restricted_expected_carbon)/(carbon_cost*1e3):.0f} tCO2/yr')\n",
    "print(f'Optionality carbon benefit: {(restricted_expected_carbon - open_expected_carbon)/(carbon_cost*1e3):.0f} tCO2/yr')"
   ]
  },
  {
   "cell_type": "code",
   "execution_count": null,
   "metadata": {},
   "outputs": [],
   "source": [
    "# Look at frequency of posterior optimal storage technologies\n",
    "techs = ['-'.join(res['design']['storage_technologies']) for res in open_results]\n",
    "counts = Counter(techs)\n",
    "print(dict(counts))"
   ]
  },
  {
   "cell_type": "markdown",
   "metadata": {},
   "source": [
    "#### Plot cost distributions"
   ]
  },
  {
   "cell_type": "code",
   "execution_count": null,
   "metadata": {},
   "outputs": [],
   "source": [
    "fig,ax = plt.subplots()\n",
    "\n",
    "plt.ylim(0,5.5e-3)\n",
    "\n",
    "for techs_str in tech_combos_strs:\n",
    "    design_results_files = [os.path.join(result_dir_path_pattern.format(z=z),'design_options',f'{techs_str}_design.yaml') for z in range(N)]\n",
    "    design_results = [yaml.safe_load(open(f)) for f in design_results_files]\n",
    "    post_costs = np.array([res['overall_objective']['overall_objective'] for res in design_results])\n",
    "    print(f\"{techs_str}: {np.mean(post_costs)/1e6:.2f} €m/yr\")\n",
    "\n",
    "    c = colors[tech_combos_strs.index(techs_str)]\n",
    "\n",
    "    sns.kdeplot(\n",
    "        post_costs/1e6,\n",
    "        ax=ax,\n",
    "        label='VRFB' if techs_str=='VRBF' else techs_str,\n",
    "        color=c,\n",
    "        cut=0\n",
    "    )\n",
    "    plt.vlines(\n",
    "        np.mean(post_costs)/1e6,\n",
    "        0,\n",
    "        ax.get_ylim()[1],\n",
    "        color=c,\n",
    "        linestyle=\"--\",\n",
    "        alpha=0.5,\n",
    "        zorder=1\n",
    "    )\n",
    "\n",
    "plt.yticks([])\n",
    "plt.xlabel('Posterior expected cost (€m/yr)')\n",
    "\n",
    "plt.hlines(0,0,1,color='black',linestyles=['--'],label='Pre-post.')\n",
    "plt.legend()\n",
    "plt.tight_layout()\n",
    "plt.savefig(os.path.join('plots',f'{expt_name}_post_cost_dists.pdf'))\n",
    "plt.show()"
   ]
  },
  {
   "cell_type": "markdown",
   "metadata": {},
   "source": [
    "Note that these pre-posterior costs are much lower than the prior costs - as expected because the system design is done with reduced uncertainty (important for budget constraint), so there is some VoI. But the interesting thing here is that given the problem structure, just doing the prior analysis leads to a significant over-estimate of expected costs! (Important for planning/financing)\n",
    "\n",
    "This actually motivates the way of making decisions this way (i.e. adjusting capacities after R&D, cost improvement is pretty big - quantify & discuss)."
   ]
  },
  {
   "cell_type": "markdown",
   "metadata": {},
   "source": [
    "#### Plot designs"
   ]
  },
  {
   "cell_type": "code",
   "execution_count": null,
   "metadata": {},
   "outputs": [],
   "source": [
    "# restricted designs only\n",
    "fig, ax = plt.subplots()\n",
    "\n",
    "restricted_techs = restricted_results[0]['design']['storage_technologies']\n",
    "restricted_techs_str = '-'.join(restricted_techs)\n",
    "restricted_wind_caps = np.array([])\n",
    "restricted_storage_caps = np.array([])\n",
    "\n",
    "for res in restricted_results:\n",
    "    restricted_wind_caps = np.append(restricted_wind_caps,res['design']['wind_capacity']['value'])\n",
    "    total_storage_cap = 0\n",
    "    for tech in restricted_techs:\n",
    "        total_storage_cap += res['design']['storage_capacities'][tech]['value']\n",
    "    restricted_storage_caps = np.append(restricted_storage_caps,total_storage_cap)\n",
    "\n",
    "mean_rest_wind_cap = np.mean(restricted_wind_caps)\n",
    "mean_rest_storage_cap = np.mean(restricted_storage_caps)\n",
    "\n",
    "ax.scatter(\n",
    "    x=restricted_wind_caps/1e6,\n",
    "    y=restricted_storage_caps/1e6,\n",
    "    c=[colors[tech_combos_strs.index(restricted_techs_str)]],\n",
    "    label='Sample',\n",
    "    #alpha=0.8,\n",
    "    lw=0,\n",
    "    s=20,\n",
    "    zorder=10\n",
    ")\n",
    "\n",
    "ax.scatter(\n",
    "    x=mean_rest_wind_cap/1e6,\n",
    "    y=mean_rest_storage_cap/1e6,\n",
    "    c='black',\n",
    "    label='Mean',\n",
    "    lw=0,\n",
    "    s=20,\n",
    "    zorder=20\n",
    ")\n",
    "\n",
    "xlims = ax.get_xlim()\n",
    "ylims = ax.get_ylim()\n",
    "\n",
    "ax.hlines(\n",
    "    mean_rest_storage_cap/1e6,\n",
    "    xlims[0],\n",
    "    mean_rest_wind_cap/1e6,\n",
    "    color='black',\n",
    "    alpha=0.5,\n",
    "    linestyle='--',\n",
    "    zorder=1\n",
    ")\n",
    "ax.vlines(\n",
    "    mean_rest_wind_cap/1e6,\n",
    "    ylims[0],\n",
    "    mean_rest_storage_cap/1e6,\n",
    "    color='black',\n",
    "    alpha=0.5,\n",
    "    linestyle='--',\n",
    "    zorder=1\n",
    ")\n",
    "\n",
    "plt.xlim(xlims)\n",
    "plt.ylim(ylims)\n",
    "\n",
    "plt.xlabel('Wind Capacity (GW)')\n",
    "plt.ylabel('Storage Capacity (GWh)')\n",
    "\n",
    "lgnd = plt.legend()\n",
    "for i in range(2):\n",
    "    lgnd.legend_handles[i]._sizes = [40]\n",
    "\n",
    "plt.tight_layout()\n",
    "plt.savefig(os.path.join('plots',f'{expt_name}_rest_post_designs.pdf'))\n",
    "plt.show()"
   ]
  },
  {
   "cell_type": "code",
   "execution_count": null,
   "metadata": {},
   "outputs": [],
   "source": [
    "fig, ax = plt.subplots()\n",
    "\n",
    "restricted_techs = restricted_results[0]['design']['storage_technologies']\n",
    "restricted_techs_str = '-'.join(restricted_techs)\n",
    "restricted_wind_caps = np.array([])\n",
    "restricted_storage_caps = np.array([])\n",
    "\n",
    "for res in restricted_results:\n",
    "    restricted_wind_caps = np.append(restricted_wind_caps,res['design']['wind_capacity']['value'])\n",
    "    total_storage_cap = 0\n",
    "    for tech in restricted_techs:\n",
    "        total_storage_cap += res['design']['storage_capacities'][tech]['value']\n",
    "    restricted_storage_caps = np.append(restricted_storage_caps,total_storage_cap)\n",
    "\n",
    "open_wind_caps = np.array([])\n",
    "open_techs = np.array([])\n",
    "open_storage_caps = np.array([])\n",
    "\n",
    "for res in open_results:\n",
    "    open_wind_caps = np.append(open_wind_caps,res['design']['wind_capacity']['value'])\n",
    "    techs = res['design']['storage_technologies']\n",
    "    open_techs = np.append(open_techs,'-'.join(techs))\n",
    "    total_storage_cap = 0\n",
    "    for tech in techs:\n",
    "        total_storage_cap += res['design']['storage_capacities'][tech]['value']\n",
    "    open_storage_caps = np.append(open_storage_caps,total_storage_cap)\n",
    "\n",
    "ax.scatter(\n",
    "    x=restricted_wind_caps[open_techs != restricted_techs_str]/1e6,\n",
    "    y=restricted_storage_caps[open_techs != restricted_techs_str]/1e6,\n",
    "    c=[colors[tech_combos_strs.index(restricted_techs_str)]],\n",
    "    alpha=0.5,\n",
    "    lw=0,\n",
    "    label='Restricted',\n",
    "    marker='s',\n",
    "    s=15\n",
    ")\n",
    "\n",
    "for techs_str in tech_combos_strs:\n",
    "    ax.scatter(\n",
    "        x=open_wind_caps[open_techs == techs_str]/1e6,\n",
    "        y=open_storage_caps[open_techs == techs_str]/1e6,\n",
    "        c=[colors[tech_combos_strs.index(techs_str)]],\n",
    "        label='VRFB' if techs_str=='VRBF' else techs_str,\n",
    "        s=12\n",
    "    )\n",
    "\n",
    "plt.xlim(0.42,0.46)\n",
    "plt.ylim(0.5,8.5)\n",
    "\n",
    "plt.xlabel('Wind Capacity (GW)')\n",
    "plt.ylabel('Storage Capacity (GWh)')\n",
    "\n",
    "lgnd = plt.legend()\n",
    "for i in range(len(tech_combos)+1):\n",
    "    lgnd.legend_handles[i]._sizes = [40]\n",
    "\n",
    "plt.tight_layout()\n",
    "plt.savefig(os.path.join('plots',f'{expt_name}_post_designs.pdf'))\n",
    "plt.show()"
   ]
  },
  {
   "cell_type": "markdown",
   "metadata": {},
   "source": [
    "#### Plot improvement in cost from open design c.f. restricted"
   ]
  },
  {
   "cell_type": "code",
   "execution_count": 15,
   "metadata": {},
   "outputs": [],
   "source": [
    "open_costs = np.array([])\n",
    "restricted_costs = np.array([])\n",
    "open_techs = np.array([])\n",
    "\n",
    "for i in range(N):\n",
    "    open_costs = np.append(open_costs,open_results[i]['overall_objective']['overall_objective'])\n",
    "    restricted_costs = np.append(restricted_costs,restricted_results[i]['overall_objective']['overall_objective'])\n",
    "    open_techs = np.append(open_techs,'-'.join(open_results[i]['design']['storage_technologies']))\n",
    "\n",
    "cost_improvements = restricted_costs - open_costs\n",
    "\n",
    "voi_estimates = np.array([np.mean(cost_improvements[:i+1]) for i in range(N)])\n",
    "voi_std_errors = np.array([np.std(cost_improvements[:i+1])/np.sqrt(i+1) for i in range(N)])"
   ]
  },
  {
   "cell_type": "code",
   "execution_count": null,
   "metadata": {},
   "outputs": [],
   "source": [
    "# plot cost comparison open vs restricted case\n",
    "fig, ax = plt.subplots()\n",
    "\n",
    "sns.histplot(\n",
    "    cost_improvements/1e6,\n",
    "    binrange=(0,100),\n",
    "    binwidth=5,\n",
    "    stat='percent',\n",
    "    ax=ax,\n",
    "    color='black'\n",
    ")\n",
    "\n",
    "plt.xlim(0,100)\n",
    "\n",
    "plt.xlabel('Cost Improvement (€m/yr)')\n",
    "plt.ylabel('% of Scenarios')\n",
    "\n",
    "plt.show()"
   ]
  },
  {
   "cell_type": "code",
   "execution_count": null,
   "metadata": {},
   "outputs": [],
   "source": [
    "fig, ax = plt.subplots(figsize=(10,5))\n",
    "\n",
    "ax.plot(\n",
    "    np.arange(1,N+1),\n",
    "    voi_estimates/1e6,\n",
    "    label='VoO estimate',\n",
    "    color='black',\n",
    "    lw=2.5,\n",
    "    zorder=1\n",
    ")\n",
    "ax.fill_between(\n",
    "    np.arange(1,N+1),\n",
    "    (voi_estimates - 2*voi_std_errors)/1e6,\n",
    "    (voi_estimates + 2*voi_std_errors)/1e6,\n",
    "    label='95% CI',\n",
    "    color='black',\n",
    "    lw=0,\n",
    "    alpha=0.2,\n",
    "    zorder=0\n",
    ")\n",
    "\n",
    "for techs_str in tech_combos_strs:\n",
    "    ax.scatter(\n",
    "        x=np.arange(1,N+1)[open_techs == techs_str],\n",
    "        y=cost_improvements[open_techs == techs_str]/1e6,\n",
    "        c = colors[tech_combos_strs.index(techs_str)],\n",
    "        label='VRFB' if techs_str=='VRBF' else techs_str,\n",
    "        clip_on=False,\n",
    "        zorder=100\n",
    "    )\n",
    "\n",
    "plt.xlim(0,N+1)\n",
    "plt.ylim(0)\n",
    "\n",
    "plt.xlabel('Sample no.')\n",
    "plt.ylabel('Cost Improvement (€m/yr)')\n",
    "\n",
    "plt.legend()\n",
    "plt.tight_layout()\n",
    "plt.savefig(os.path.join('plots',f'{expt_name}_designs_comparison.pdf'))\n",
    "plt.show()"
   ]
  },
  {
   "cell_type": "code",
   "execution_count": null,
   "metadata": {},
   "outputs": [],
   "source": [
    "fig, ax = plt.subplots(figsize=(10,5))\n",
    "\n",
    "ax.plot(\n",
    "    np.arange(1,N+1),\n",
    "    voi_estimates/1e6,\n",
    "    color='black',\n",
    "    lw=2.5,\n",
    "    zorder=1\n",
    ")\n",
    "ax.fill_between(\n",
    "    np.arange(1,N+1),\n",
    "    (voi_estimates - 2*voi_std_errors)/1e6,\n",
    "    (voi_estimates + 2*voi_std_errors)/1e6,\n",
    "    color='black',\n",
    "    lw=0,\n",
    "    alpha=0.2,\n",
    "    zorder=0\n",
    ")\n",
    "\n",
    "plt.xlim(0,N)\n",
    "plt.ylim(0)\n",
    "\n",
    "plt.xlabel('Scenario')\n",
    "plt.ylabel('VoO estimate (€m/yr)')\n",
    "plt.tight_layout()\n",
    "plt.savefig(os.path.join('plots',f'{expt_name}_voo_conv.pdf'))\n",
    "plt.show()"
   ]
  },
  {
   "cell_type": "markdown",
   "metadata": {},
   "source": [
    "Plot scenarios ordered by cost improvement"
   ]
  },
  {
   "cell_type": "code",
   "execution_count": null,
   "metadata": {},
   "outputs": [],
   "source": [
    "ordered_cost_improvements = cost_improvements[np.argsort(cost_improvements)]\n",
    "ordered_open_techs = open_techs[np.argsort(cost_improvements)]\n",
    "zorders = [10,5,2,8]\n",
    "\n",
    "fig, ax = plt.subplots(figsize=(10,5))\n",
    "\n",
    "ax.plot(\n",
    "    np.arange(0,N+2),\n",
    "    np.ones(N+2)*np.mean(ordered_cost_improvements)/1e6,\n",
    "    label='VoO',\n",
    "    color='black',\n",
    "    lw=2.5,\n",
    "    zorder=1\n",
    ")\n",
    "for techs_str in tech_combos_strs:\n",
    "    ax.scatter(\n",
    "        x=np.arange(1,N+1)[ordered_open_techs == techs_str],\n",
    "        y=ordered_cost_improvements[ordered_open_techs == techs_str]/1e6,\n",
    "        c=[colors[tech_combos_strs.index(techs_str)]],\n",
    "        alpha=0.5,\n",
    "        label='VRFB' if techs_str=='VRBF' else techs_str,\n",
    "        clip_on=False,\n",
    "        zorder=zorders[tech_combos_strs.index(techs_str)]\n",
    "    )\n",
    "\n",
    "plt.xlim(0,N+1)\n",
    "plt.ylim(0)\n",
    "\n",
    "plt.xlabel('Ordered Scenarios')\n",
    "plt.ylabel(r'Cost Improvement (€m/yr)')\n",
    "\n",
    "plt.legend(loc='upper left')\n",
    "plt.tight_layout()\n",
    "plt.savefig(os.path.join('plots',f'{expt_name}_ordered_design_comparison.pdf'))\n",
    "plt.show()"
   ]
  },
  {
   "cell_type": "code",
   "execution_count": null,
   "metadata": {},
   "outputs": [],
   "source": []
  }
 ],
 "metadata": {
  "kernelspec": {
   "display_name": "EP-VOI",
   "language": "python",
   "name": "python3"
  },
  "language_info": {
   "codemirror_mode": {
    "name": "ipython",
    "version": 3
   },
   "file_extension": ".py",
   "mimetype": "text/x-python",
   "name": "python",
   "nbconvert_exporter": "python",
   "pygments_lexer": "ipython3",
   "version": "3.9.18"
  }
 },
 "nbformat": 4,
 "nbformat_minor": 2
}
