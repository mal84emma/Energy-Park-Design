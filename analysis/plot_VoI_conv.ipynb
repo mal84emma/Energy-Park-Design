{
 "cells": [
  {
   "cell_type": "markdown",
   "metadata": {},
   "source": [
    "# Plot comparison of costs of restricted and open designs, and resulting VoI estimate convergence"
   ]
  },
  {
   "cell_type": "code",
   "execution_count": null,
   "metadata": {},
   "outputs": [],
   "source": [
    "# Hack to emulate running notebook from root directory.\n",
    "import os\n",
    "os.chdir('..')"
   ]
  },
  {
   "cell_type": "code",
   "execution_count": null,
   "metadata": {},
   "outputs": [],
   "source": [
    "import yaml\n",
    "import numpy as np\n",
    "\n",
    "from configs import get_experiment_config\n",
    "\n",
    "from collections import Counter\n",
    "import matplotlib.pyplot as plt\n",
    "import seaborn as sns\n",
    "import matplotlib.colors as mcolors"
   ]
  },
  {
   "cell_type": "markdown",
   "metadata": {},
   "source": [
    "#### Load design results for selected experiment"
   ]
  },
  {
   "cell_type": "code",
   "execution_count": null,
   "metadata": {},
   "outputs": [],
   "source": [
    "expt_id = 1\n",
    "settings, base_params = get_experiment_config(expt_id)\n",
    "available_technologies = list(settings['probability_settings']['storage'].keys())\n",
    "N = settings['probability_settings']['n_prior_samples']"
   ]
  },
  {
   "cell_type": "code",
   "execution_count": null,
   "metadata": {},
   "outputs": [],
   "source": [
    "result_dir_path_pattern = os.path.join(*settings['results_dir'],'posterior','z_scenario_{z}')\n",
    "\n",
    "open_design_results_files = [os.path.join(result_dir_path_pattern.format(z=z), 'open_design.yaml') for z in range(N)]\n",
    "open_results = [yaml.safe_load(open(f)) for f in open_design_results_files]\n",
    "restricted_design_results_files = [os.path.join(result_dir_path_pattern.format(z=z), 'restricted_design.yaml') for z in range(N)]\n",
    "restricted_results = [yaml.safe_load(open(f)) for f in restricted_design_results_files]"
   ]
  },
  {
   "cell_type": "markdown",
   "metadata": {},
   "source": [
    "Quick bit of pre-analysis"
   ]
  },
  {
   "cell_type": "code",
   "execution_count": null,
   "metadata": {},
   "outputs": [],
   "source": [
    "# Compute VoI\n",
    "open_expected_cost = np.mean([res['overall_objective']['overall_objective'] for res in open_results])\n",
    "restricted_expected_cost = np.mean([res['overall_objective']['overall_objective'] for res in restricted_results])\n",
    "print(open_expected_cost/1e6)\n",
    "print(restricted_expected_cost/1e6)\n",
    "\n",
    "voi = restricted_expected_cost - open_expected_cost\n",
    "print(voi/1e6)\n",
    "print(voi/np.abs(restricted_expected_cost)*100)"
   ]
  },
  {
   "cell_type": "code",
   "execution_count": null,
   "metadata": {},
   "outputs": [],
   "source": [
    "# Look at frequency of posterior optimal storage technologies\n",
    "techs = [res['design']['storage_technologies'][0] for res in open_results]\n",
    "counts = Counter(techs)\n",
    "print(dict(counts))"
   ]
  },
  {
   "cell_type": "markdown",
   "metadata": {},
   "source": [
    "#### Plot designs"
   ]
  },
  {
   "cell_type": "code",
   "execution_count": null,
   "metadata": {},
   "outputs": [],
   "source": [
    "colors = list(mcolors.TABLEAU_COLORS.values())"
   ]
  },
  {
   "cell_type": "code",
   "execution_count": null,
   "metadata": {},
   "outputs": [],
   "source": [
    "fig, ax = plt.subplots()\n",
    "\n",
    "restricted_tech = restricted_results[0]['design']['storage_technologies'][0]\n",
    "restricted_wind_caps = np.array([])\n",
    "restricted_storage_caps = np.array([])\n",
    "\n",
    "for res in restricted_results:\n",
    "    restricted_wind_caps = np.append(restricted_wind_caps,res['design']['wind_capacity']['value'])\n",
    "    restricted_storage_caps = np.append(restricted_storage_caps,res['design']['storage_capacities'][restricted_tech]['value'])\n",
    "\n",
    "open_wind_caps = np.array([])\n",
    "open_techs = np.array([])\n",
    "open_storage_caps = np.array([])\n",
    "\n",
    "for res in open_results:\n",
    "    open_wind_caps = np.append(open_wind_caps,res['design']['wind_capacity']['value'])\n",
    "    tech = res['design']['storage_technologies'][0]\n",
    "    open_techs = np.append(open_techs,tech)\n",
    "    open_storage_caps = np.append(open_storage_caps,res['design']['storage_capacities'][tech]['value'])\n",
    "\n",
    "ax.scatter(\n",
    "    x=restricted_wind_caps[open_techs != restricted_tech]/1e6,\n",
    "    y=restricted_storage_caps[open_techs != restricted_tech]/1e6,\n",
    "    c=colors[available_technologies.index(restricted_tech)],\n",
    "    alpha=0.5,\n",
    "    lw=0,\n",
    "    label='Restricted',\n",
    "    marker='s'\n",
    ")\n",
    "\n",
    "for tech in available_technologies:\n",
    "    ax.scatter(\n",
    "        x=open_wind_caps[open_techs == tech]/1e6,\n",
    "        y=open_storage_caps[open_techs == tech]/1e6,\n",
    "        c=colors[available_technologies.index(tech)],\n",
    "        label=tech\n",
    "    )\n",
    "\n",
    "plt.xlabel('Wind Capacity (GW)')\n",
    "plt.ylabel('Storage Capacity (GWh)')\n",
    "\n",
    "plt.legend()\n",
    "plt.show()"
   ]
  },
  {
   "cell_type": "markdown",
   "metadata": {},
   "source": [
    "#### Plot improvement in cost from open design c.f. restricted"
   ]
  },
  {
   "cell_type": "code",
   "execution_count": null,
   "metadata": {},
   "outputs": [],
   "source": [
    "open_costs = np.array([])\n",
    "restricted_costs = np.array([])\n",
    "open_techs = np.array([])\n",
    "\n",
    "for i in range(N):\n",
    "    open_costs = np.append(open_costs,open_results[i]['overall_objective']['overall_objective'])\n",
    "    restricted_costs = np.append(restricted_costs,restricted_results[i]['overall_objective']['overall_objective'])\n",
    "    open_techs = np.append(open_techs,open_results[i]['design']['storage_technologies'][0])\n",
    "\n",
    "cost_improvements = restricted_costs - open_costs\n",
    "\n",
    "voi_estimates = np.array([np.mean(cost_improvements[:i+1]) for i in range(N)])\n",
    "voi_std_errors = np.array([np.std(cost_improvements[:i+1])/np.sqrt(i+1) for i in range(N)])"
   ]
  },
  {
   "cell_type": "code",
   "execution_count": null,
   "metadata": {},
   "outputs": [],
   "source": [
    "# plot cost comparison open vs restricted case\n",
    "fig, ax = plt.subplots()\n",
    "\n",
    "sns.histplot(\n",
    "    cost_improvements/1e6,\n",
    "    binrange=(0,100),\n",
    "    binwidth=5,\n",
    "    ax=ax,\n",
    "    color='black'\n",
    ")\n",
    "\n",
    "plt.xlim(0,100)\n",
    "\n",
    "plt.xlabel('Cost Improvement (EUR/yr, millions)')\n",
    "plt.ylabel('No. of Scenarios')\n",
    "\n",
    "plt.show()"
   ]
  },
  {
   "cell_type": "code",
   "execution_count": null,
   "metadata": {},
   "outputs": [],
   "source": [
    "fig, ax = plt.subplots()\n",
    "\n",
    "ax.plot(\n",
    "    np.arange(1,N+1),\n",
    "    voi_estimates/1e6,\n",
    "    label='VoI estimate',\n",
    "    color='black',\n",
    "    lw=2.5,\n",
    "    zorder=1\n",
    ")\n",
    "ax.fill_between(\n",
    "    np.arange(1,N+1),\n",
    "    (voi_estimates - 2*voi_std_errors)/1e6,\n",
    "    (voi_estimates + 2*voi_std_errors)/1e6,\n",
    "    label='95% CI',\n",
    "    color='black',\n",
    "    lw=0,\n",
    "    alpha=0.2,\n",
    "    zorder=0\n",
    ")\n",
    "\n",
    "for tech in available_technologies:\n",
    "    ax.scatter(\n",
    "        x=np.arange(1,N+1)[open_techs == tech],\n",
    "        y=cost_improvements[open_techs == tech]/1e6,\n",
    "        label=tech,\n",
    "        clip_on=False,\n",
    "        zorder=100\n",
    "    )\n",
    "\n",
    "plt.xlim(0,N+1)\n",
    "plt.ylim(0)\n",
    "\n",
    "plt.xlabel('Scenario')\n",
    "plt.ylabel('Cost Improvement (EUR/yr, millions)')\n",
    "\n",
    "plt.legend()\n",
    "plt.show()"
   ]
  },
  {
   "cell_type": "code",
   "execution_count": null,
   "metadata": {},
   "outputs": [],
   "source": [
    "fig, ax = plt.subplots()\n",
    "\n",
    "ax.plot(\n",
    "    np.arange(1,N+1),\n",
    "    voi_estimates/1e6,\n",
    "    color='black',\n",
    "    lw=2.5,\n",
    "    zorder=1\n",
    ")\n",
    "ax.fill_between(\n",
    "    np.arange(1,N+1),\n",
    "    (voi_estimates - 2*voi_std_errors)/1e6,\n",
    "    (voi_estimates + 2*voi_std_errors)/1e6,\n",
    "    color='black',\n",
    "    lw=0,\n",
    "    alpha=0.2,\n",
    "    zorder=0\n",
    ")\n",
    "\n",
    "plt.xlim(0,N)\n",
    "plt.ylim(0)\n",
    "\n",
    "plt.xlabel('Scenario')\n",
    "plt.ylabel('VoI estimate (EUR/yr, millions)')\n",
    "\n",
    "plt.show()"
   ]
  },
  {
   "cell_type": "markdown",
   "metadata": {},
   "source": [
    "Plot scenarios ordered by cost improvement"
   ]
  },
  {
   "cell_type": "code",
   "execution_count": null,
   "metadata": {},
   "outputs": [],
   "source": [
    "ordered_cost_improvements = cost_improvements[np.argsort(cost_improvements)]\n",
    "ordered_open_techs = open_techs[np.argsort(cost_improvements)]\n",
    "\n",
    "\n",
    "fig, ax = plt.subplots()\n",
    "\n",
    "ax.plot(\n",
    "    np.arange(0,N+2),\n",
    "    np.ones(N+2)*np.mean(ordered_cost_improvements)/1e6,\n",
    "    label='VoI',\n",
    "    color='black',\n",
    "    lw=2.5,\n",
    "    zorder=1\n",
    ")\n",
    "for tech in available_technologies:\n",
    "    ax.scatter(\n",
    "        x=np.arange(1,N+1)[ordered_open_techs == tech],\n",
    "        y=ordered_cost_improvements[ordered_open_techs == tech]/1e6,\n",
    "        label=tech,\n",
    "        clip_on=False\n",
    "    )\n",
    "\n",
    "plt.xlim(0,N+1)\n",
    "plt.ylim(0)\n",
    "\n",
    "plt.xlabel('Ordered Scenarios')\n",
    "plt.ylabel('Cost Improvement (EUR, millions)')\n",
    "\n",
    "plt.legend()\n",
    "plt.show()"
   ]
  },
  {
   "cell_type": "code",
   "execution_count": null,
   "metadata": {},
   "outputs": [],
   "source": []
  }
 ],
 "metadata": {
  "kernelspec": {
   "display_name": "EP-VOI",
   "language": "python",
   "name": "python3"
  },
  "language_info": {
   "codemirror_mode": {
    "name": "ipython",
    "version": 3
   },
   "file_extension": ".py",
   "mimetype": "text/x-python",
   "name": "python",
   "nbconvert_exporter": "python",
   "pygments_lexer": "ipython3",
   "version": "3.9.18"
  }
 },
 "nbformat": 4,
 "nbformat_minor": 2
}
