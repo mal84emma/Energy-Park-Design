{
 "cells": [
  {
   "cell_type": "markdown",
   "metadata": {},
   "source": [
    "# Visualise distributions for paper"
   ]
  },
  {
   "cell_type": "markdown",
   "metadata": {},
   "source": [
    "## Setup"
   ]
  },
  {
   "cell_type": "code",
   "execution_count": 1,
   "metadata": {},
   "outputs": [],
   "source": [
    "# Hack to emulate running notebook from root directory.\n",
    "import os\n",
    "os.chdir('..')"
   ]
  },
  {
   "cell_type": "code",
   "execution_count": null,
   "metadata": {},
   "outputs": [],
   "source": [
    "from copy import deepcopy\n",
    "import numpy as np\n",
    "import pandas as pd\n",
    "\n",
    "from prob_models import prior_model, posterior_model\n",
    "\n",
    "from utils.plotting import lighten_color\n",
    "from utils.plotting import init_profile_fig, add_profile\n",
    "\n",
    "import seaborn as sns\n",
    "import matplotlib.pyplot as plt\n",
    "import matplotlib.colors as mcolors"
   ]
  },
  {
   "cell_type": "code",
   "execution_count": 3,
   "metadata": {},
   "outputs": [],
   "source": [
    "from configs.experiment_handling import get_experiment_config"
   ]
  },
  {
   "cell_type": "code",
   "execution_count": 4,
   "metadata": {},
   "outputs": [],
   "source": [
    "expt_settings, base_params = get_experiment_config('base')\n",
    "dataset_dir = os.path.join(*expt_settings['dataset_dir'])\n",
    "prob_settings = expt_settings['probability_settings']"
   ]
  },
  {
   "cell_type": "markdown",
   "metadata": {},
   "source": [
    "## Plot distributions of generation data"
   ]
  },
  {
   "cell_type": "code",
   "execution_count": 5,
   "metadata": {},
   "outputs": [],
   "source": [
    "years = [2010,2015,2019]\n",
    "colors = plt.rcParams['axes.prop_cycle'].by_key()['color']\n",
    "dark_colors = [mcolors.rgb2hex(plt.cm.tab20b.colors[0])] + [mcolors.rgb2hex(c) for c in plt.cm.Dark2.colors]\n",
    "lighten = [1,0.6,1.3]\n",
    "\n",
    "period = 24*10+1\n",
    "starts = [24*31,24*185]\n",
    "seasons = ['winter','summer']"
   ]
  },
  {
   "cell_type": "code",
   "execution_count": null,
   "metadata": {},
   "outputs": [],
   "source": [
    "for offset,season in zip(starts,seasons):\n",
    "    fig,ax = plt.subplots(figsize=(15,5))\n",
    "\n",
    "    for (i,tech) in enumerate(['wind','solar']):\n",
    "        for (j,year) in enumerate(years):\n",
    "\n",
    "            data = pd.read_csv(os.path.join(dataset_dir,tech,f'{year}.csv'))\n",
    "\n",
    "            start = pd.to_datetime(\"01/01/2000\") + pd.DateOffset(hours=offset)\n",
    "            trange = pd.date_range(start=start, periods=period, freq='h')\n",
    "\n",
    "            plt.plot(\n",
    "                trange,\n",
    "                data[offset:offset+period],\n",
    "                label=f'{year}',\n",
    "                alpha=0.75,\n",
    "                color=lighten_color(colors[i],lighten[j]),\n",
    "                zorder=10-i\n",
    "            )\n",
    "\n",
    "    plt.gca().xaxis.set_major_formatter(plt.matplotlib.dates.DateFormatter('%b %d'))\n",
    "    plt.xlim(trange[0],trange[-1])\n",
    "    plt.margins(y=0.2)\n",
    "    plt.ylim(0,1.1)\n",
    "    plt.ylabel('Normalized Energy Generation')\n",
    "    plt.legend(title=\"Wind      Solar\",loc='upper left', ncol=2, labelspacing=0.4, columnspacing=0.8, fontsize=8)\n",
    "    plt.tight_layout()\n",
    "    plt.savefig(os.path.join('plots',f'gen_data_{season}.pdf'))\n",
    "    plt.show()"
   ]
  },
  {
   "cell_type": "markdown",
   "metadata": {},
   "source": [
    "Plot interactive version with full set of data"
   ]
  },
  {
   "cell_type": "code",
   "execution_count": 7,
   "metadata": {},
   "outputs": [],
   "source": [
    "dashes = ['solid','dash','dashdot','dot']"
   ]
  },
  {
   "cell_type": "code",
   "execution_count": null,
   "metadata": {},
   "outputs": [],
   "source": [
    "fig = init_profile_fig(y_titles={'y1':'Normalized Energy Generation'})\n",
    "\n",
    "for (i,tech) in enumerate(['wind','solar']):\n",
    "    for (j,year) in enumerate(expt_settings[f'{tech}_years']):\n",
    "\n",
    "        data = pd.read_csv(os.path.join(dataset_dir,tech,f'{year}.csv')).to_numpy().flatten()\n",
    "\n",
    "        fig = add_profile(\n",
    "            fig,\n",
    "            data,\n",
    "            name=year,\n",
    "            legendgroup=tech,\n",
    "            legendgrouptitle_text=f\"{tech}\".title(),\n",
    "            line=dict(\n",
    "                color=f'rgb{lighten_color(colors[i],lighten[j%3])}',\n",
    "                width=3,\n",
    "                dash=dashes[j//3]\n",
    "            ),\n",
    "            visible=True if j<3 else 'legendonly',\n",
    "            hovertemplate ='Time: %{x}'+'<br>Norm gen.: %{y:.3f}',\n",
    "        )\n",
    "\n",
    "fig.update_layout(\n",
    "    legend=dict(\n",
    "        title=\"Load year\",\n",
    "        orientation=\"v\",\n",
    "        x=1,\n",
    "        xanchor='center',\n",
    "        y=1,\n",
    "        yanchor='top',\n",
    "        groupclick=\"toggleitem\"\n",
    "    )\n",
    ")\n",
    "\n",
    "fig['layout']['xaxis'].update(range=['2000-04-24','2000-05-04'])\n",
    "fig.update_layout(title=dict(\n",
    "    text='Normalized renewable generation dataset',\n",
    "    y=0.95,\n",
    "    x=0.5,\n",
    "    xanchor='center',\n",
    "    yanchor='top'\n",
    "))\n",
    "fig.write_html(f'generation_dataset_plot.html')\n",
    "\n",
    "fig.show()"
   ]
  },
  {
   "cell_type": "markdown",
   "metadata": {},
   "source": [
    "## Plot example prior and posterior distribution for a storage parameter"
   ]
  },
  {
   "cell_type": "markdown",
   "metadata": {},
   "source": [
    "Pick VRBF cost as variance is high"
   ]
  },
  {
   "cell_type": "code",
   "execution_count": 9,
   "metadata": {},
   "outputs": [],
   "source": [
    "np.random.seed(0)"
   ]
  },
  {
   "cell_type": "code",
   "execution_count": 10,
   "metadata": {},
   "outputs": [],
   "source": [
    "theta_scenarios, z_scenarios = prior_model(\n",
    "    prob_settings,\n",
    "    base_params['cost_values'],\n",
    "    base_params['timeseries_values'],\n",
    "    base_params['storage_values'],\n",
    "    n_samples=prob_settings['n_prior_samples']\n",
    ")"
   ]
  },
  {
   "cell_type": "code",
   "execution_count": 11,
   "metadata": {},
   "outputs": [],
   "source": [
    "j=1\n",
    "vartheta_scenarios = posterior_model(\n",
    "            z_scenarios[j],\n",
    "            prob_settings,\n",
    "            n_samples=prob_settings['n_posterior_samples']\n",
    "        )"
   ]
  },
  {
   "cell_type": "code",
   "execution_count": 12,
   "metadata": {},
   "outputs": [],
   "source": [
    "tech = 'VRBF'"
   ]
  },
  {
   "cell_type": "code",
   "execution_count": null,
   "metadata": {},
   "outputs": [],
   "source": [
    "fig, ax = plt.subplots()\n",
    "\n",
    "sns.kdeplot(\n",
    "    [scen.storage_efficiencies[tech] for scen in theta_scenarios],\n",
    "    cut=0,\n",
    "    label='Prior',\n",
    "    ax=ax, c='k', lw=2\n",
    ")\n",
    "sns.kdeplot(\n",
    "    [scen.storage_efficiencies[tech] for scen in theta_scenarios],\n",
    "    alpha=0.15,\n",
    "    ax=ax, c='k', lw=2\n",
    ")\n",
    "ymax = ax.get_ylim()[1]*1.5\n",
    "plt.vlines(\n",
    "    z_scenarios[j].storage_efficiencies[tech],\n",
    "    0,\n",
    "    ymax,\n",
    "    label='Measurement',\n",
    "    color='k', alpha=0.7, ls='--', lw=2\n",
    ")\n",
    "xlims = ax.get_xlim()\n",
    "plt.plot(0, 0, c='k', alpha=0.5, lw=2, label='Posterior')\n",
    "plt.legend(loc='upper left')\n",
    "\n",
    "ax2 = ax.twinx()\n",
    "sns.kdeplot(\n",
    "    [scen.storage_efficiencies[tech] for scen in vartheta_scenarios],\n",
    "    cut=0,\n",
    "    label='Posterior',\n",
    "    ax=ax2, c='k', alpha=0.5, lw=2\n",
    ")\n",
    "sns.kdeplot(\n",
    "    [scen.storage_efficiencies[tech] for scen in vartheta_scenarios],\n",
    "    alpha=0.15,\n",
    "    ax=ax2, c='k', lw=2\n",
    ")\n",
    "\n",
    "#ax.set_xlim(xlims)\n",
    "ax.set_xlim(0.625,0.875)\n",
    "ax.set_ylim(0,ymax)\n",
    "ax.get_yaxis().set_ticks([])\n",
    "ax.yaxis.set_label_text('Scaled Density')\n",
    "ax2.get_yaxis().set_ticks([])\n",
    "ax2.yaxis.set_label_text('')\n",
    "#ax.set_xlabel(f'{tech} Round-trip Efficiency')\n",
    "ax.set_xlabel(f'VRFB Round-trip Efficiency')\n",
    "plt.tight_layout()\n",
    "plt.savefig(os.path.join('plots','measurement_dists.pdf'))\n",
    "plt.show()"
   ]
  },
  {
   "cell_type": "markdown",
   "metadata": {},
   "source": [
    "Note, the densities are rescaled to make the figure look better proportioned, not they have have much meaning anyways"
   ]
  },
  {
   "cell_type": "code",
   "execution_count": null,
   "metadata": {},
   "outputs": [],
   "source": []
  }
 ],
 "metadata": {
  "kernelspec": {
   "display_name": "EP-VOI",
   "language": "python",
   "name": "python3"
  },
  "language_info": {
   "codemirror_mode": {
    "name": "ipython",
    "version": 3
   },
   "file_extension": ".py",
   "mimetype": "text/x-python",
   "name": "python",
   "nbconvert_exporter": "python",
   "pygments_lexer": "ipython3",
   "version": "3.9.18"
  }
 },
 "nbformat": 4,
 "nbformat_minor": 2
}
