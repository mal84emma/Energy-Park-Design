{
 "cells": [
  {
   "cell_type": "markdown",
   "metadata": {},
   "source": [
    "# Create interactive timeseries plot for operation of selected system design for selected scenario"
   ]
  },
  {
   "cell_type": "code",
   "execution_count": 1,
   "metadata": {},
   "outputs": [],
   "source": [
    "# Hack to emulate running notebook from root directory.\n",
    "import os\n",
    "os.chdir('..')"
   ]
  },
  {
   "cell_type": "code",
   "execution_count": 2,
   "metadata": {},
   "outputs": [],
   "source": [
    "import yaml\n",
    "import json\n",
    "import numpy as np\n",
    "\n",
    "import utils\n",
    "from configs import get_experiment_config\n",
    "from energy_model import EnergyModel\n",
    "from utils import ScenarioData, solve_model, get_Gurobi_WLS_env\n",
    "from utils.plotting import init_profile_fig, add_profile\n",
    "import matplotlib.colors as mcolors"
   ]
  },
  {
   "cell_type": "markdown",
   "metadata": {},
   "source": [
    "#### Select experiment settings, system design, and scenario to plot operation for"
   ]
  },
  {
   "cell_type": "code",
   "execution_count": 3,
   "metadata": {},
   "outputs": [],
   "source": [
    "expt_id = 'two_techs'\n",
    "techs = ['CAES','Li-ion']"
   ]
  },
  {
   "cell_type": "code",
   "execution_count": 4,
   "metadata": {},
   "outputs": [],
   "source": [
    "techs_str = '-'.join(techs)\n",
    "settings, base_params = get_experiment_config(expt_id)\n",
    "available_technologies = list(settings['probability_settings']['storage'].keys())"
   ]
  },
  {
   "cell_type": "code",
   "execution_count": 5,
   "metadata": {},
   "outputs": [],
   "source": [
    "design_fpath = os.path.join(*settings['results_dir'],'prior',f'{techs_str}_design.yaml')\n",
    "scenario_fpaths = [os.path.join(*settings['scenarios_dir'],'thetas','scenario_0.yaml')]"
   ]
  },
  {
   "cell_type": "code",
   "execution_count": 6,
   "metadata": {},
   "outputs": [],
   "source": [
    "# Load design and scenario\n",
    "with open(design_fpath, 'r') as f: design_results = yaml.safe_load(f)\n",
    "design = design_results['design']\n",
    "scenarios = [ScenarioData.from_file(fpath) for fpath in scenario_fpaths]"
   ]
  },
  {
   "cell_type": "code",
   "execution_count": null,
   "metadata": {},
   "outputs": [],
   "source": [
    "print(json.dumps(design,indent=4))"
   ]
  },
  {
   "cell_type": "code",
   "execution_count": null,
   "metadata": {},
   "outputs": [],
   "source": [
    "for scenario in scenarios:\n",
    "    print(scenario)"
   ]
  },
  {
   "cell_type": "markdown",
   "metadata": {},
   "source": [
    "#### Set up experiment configuration"
   ]
  },
  {
   "cell_type": "code",
   "execution_count": 9,
   "metadata": {},
   "outputs": [],
   "source": [
    "settings['model_settings']['storage_technologies'] = design['storage_technologies']"
   ]
  },
  {
   "cell_type": "code",
   "execution_count": null,
   "metadata": {},
   "outputs": [],
   "source": [
    "settings['solver_settings']['verbose'] = True\n",
    "settings['solver_settings']['env'] = get_Gurobi_WLS_env(silence = not settings['solver_settings']['verbose'])"
   ]
  },
  {
   "cell_type": "markdown",
   "metadata": {},
   "source": [
    "#### Run operational optimisation"
   ]
  },
  {
   "cell_type": "code",
   "execution_count": null,
   "metadata": {},
   "outputs": [],
   "source": [
    "solved_model = solve_model(scenarios, settings, design)"
   ]
  },
  {
   "cell_type": "markdown",
   "metadata": {},
   "source": [
    "#### Check result correctness"
   ]
  },
  {
   "cell_type": "code",
   "execution_count": 12,
   "metadata": {},
   "outputs": [],
   "source": [
    "solved_model.save_results('temp_results.yaml')\n",
    "with open('temp_results.yaml', 'r') as f: op_results = yaml.safe_load(f)\n",
    "os.remove('temp_results.yaml')"
   ]
  },
  {
   "cell_type": "code",
   "execution_count": 13,
   "metadata": {},
   "outputs": [],
   "source": [
    "for key in ['wind_capacity','solar_capacity']:\n",
    "    assert np.isclose(op_results['design'][key]['value'], design[key]['value'], rtol=1e-4),\\\n",
    "        f\"Design values do not match for {key}.\"\n",
    "for key in design['storage_technologies']:\n",
    "    assert np.isclose(op_results['design']['storage_capacities'][key]['value'], design['storage_capacities'][key]['value'], rtol=1e-4),\\\n",
    "        f\"Design values do not match for {key}.\""
   ]
  },
  {
   "cell_type": "code",
   "execution_count": null,
   "metadata": {},
   "outputs": [],
   "source": [
    "# Investigate operational cost relative to design optimisation\n",
    "print(json.dumps(op_results['overall_objective'],indent=4))\n",
    "if len(scenarios) > 1:\n",
    "    print(json.dumps(op_results['scenario_objective_contributions'],indent=4))"
   ]
  },
  {
   "cell_type": "markdown",
   "metadata": {},
   "source": [
    "**NOTE**: manually compare to cost from design optimisation results file."
   ]
  },
  {
   "cell_type": "markdown",
   "metadata": {},
   "source": [
    "#### Plot operation figure"
   ]
  },
  {
   "cell_type": "markdown",
   "metadata": {},
   "source": [
    "TODO: generalise to plotting multiple scenarios"
   ]
  },
  {
   "cell_type": "code",
   "execution_count": 15,
   "metadata": {},
   "outputs": [],
   "source": [
    "m = 0\n",
    "scenario = scenarios[m]"
   ]
  },
  {
   "cell_type": "code",
   "execution_count": 16,
   "metadata": {},
   "outputs": [],
   "source": [
    "d=dict(groupclick=\"toggleitem\")"
   ]
  },
  {
   "cell_type": "code",
   "execution_count": null,
   "metadata": {},
   "outputs": [],
   "source": [
    "colors = list(mcolors.TABLEAU_COLORS.values())\n",
    "\n",
    "fig = init_profile_fig(y_titles={'y1':'Energy flow (MWh)', 'y2':'State of Charge (GWh)', 'y3':'Price (€/kWh)'})\n",
    "\n",
    "fig = add_profile(fig, scenario.load[:solved_model.T]/1e3, name='Plant',\n",
    "                  legendgroup='load', legendgrouptitle_text='Load',\n",
    "                  visible='legendonly',\n",
    "                  line=dict(color='black', width=2.5, dash='dash'), zorder=10)\n",
    "fig = add_profile(fig, solved_model.grid_energies[m].solution.values/1e3, name='Grid',\n",
    "                  legendgroup='load',\n",
    "                  visible='legendonly',\n",
    "                  line=dict(color='black', width=2.5), zorder=10)\n",
    "\n",
    "wind = solved_model.scenarios[m].norm_wind_gen*solved_model.model.variables.wind_capacity.solution.values\n",
    "fig = add_profile(fig, wind/1e3, name=f'Wind',\n",
    "                  legendgroup='generation', legendgrouptitle_text='Generation',\n",
    "                  line=dict(color='#0165fc', width=2.5), zorder=5)\n",
    "solar = solved_model.scenarios[m].norm_solar_gen*solved_model.model.variables.solar_capacity.solution.values\n",
    "fig = add_profile(fig, solar/1e3, name=f'Solar',\n",
    "                  legendgroup='generation',\n",
    "                  visible='legendonly',\n",
    "                  line=dict(color='#fac205', width=2.5), zorder=5)\n",
    "curtailment = getattr(solved_model.model.variables,f'generation_curtailment_s{m}').solution.values\n",
    "fig = add_profile(fig, curtailment/1e3, name='Curtailment',\n",
    "                  legendgroup='generation', visible='legendonly',\n",
    "                  line=dict(color='#ff000d', width=2.5), zorder=4)\n",
    "\n",
    "for i,tech in enumerate(solved_model.techs):\n",
    "    if solved_model.model.variables[f'{tech}_capacity'].solution > 0:\n",
    "        SOC = getattr(solved_model.model.variables,f'SOC_{tech}_s{m}').solution\n",
    "        fig = add_profile(fig, SOC/1e6, name=tech, yaxis=f'y2',\n",
    "                          legendgroup='soc', legendgrouptitle_text='Storage SOC',\n",
    "                          #visible='legendonly',\n",
    "                          line=dict(color=colors[available_technologies.index(tech)], width=3), zorder=8)\n",
    "\n",
    "fig = add_profile(fig, solved_model.scenarios[m].elec_prices, name='Electricity price', yaxis='y3',\n",
    "                  legendgroup='other', legendgrouptitle_text='Other',\n",
    "                  #visible='legendonly',\n",
    "                  line=dict(color='#ff028d', width=2.5), zorder=12)\n",
    "fig = add_profile(fig, solved_model.get_flared_energy()[f's{m}']['total_energy_dump']/1e3, name='Flared energy', yaxis='y',\n",
    "                  legendgroup='other', visible='legendonly',\n",
    "                  line=dict(color='#be0119', width=2.5), zorder=4)\n",
    "\n",
    "fig.update_layout(legend=dict(groupclick=\"toggleitem\"))\n",
    "fig.update_layout(hovermode=\"x\")\n",
    "\n",
    "fig['layout']['xaxis'].update(range=['2000-05-26','2000-06-09'])\n",
    "fig.write_html(os.path.join('plots',f'{techs_str}_operation_plot.html'))\n",
    "fig.write_image(os.path.join('plots',f'{techs_str}_operation_plot.pdf'), width=1800, height=600)\n",
    "fig.show()"
   ]
  },
  {
   "cell_type": "markdown",
   "metadata": {},
   "source": [
    "#### Compute some additional summary stats"
   ]
  },
  {
   "cell_type": "code",
   "execution_count": null,
   "metadata": {},
   "outputs": [],
   "source": [
    "flared_energy = solved_model.get_flared_energy()\n",
    "for s,d in flared_energy.items():\n",
    "    print([s, [(key,float(val.sum().values)) for key,val in d.items()]])"
   ]
  },
  {
   "cell_type": "code",
   "execution_count": null,
   "metadata": {},
   "outputs": [],
   "source": [
    "storage_cycles = solved_model.get_storage_cycles()\n",
    "print(storage_cycles)"
   ]
  },
  {
   "cell_type": "code",
   "execution_count": null,
   "metadata": {},
   "outputs": [],
   "source": []
  }
 ],
 "metadata": {
  "kernelspec": {
   "display_name": "EP-VOI",
   "language": "python",
   "name": "python3"
  },
  "language_info": {
   "codemirror_mode": {
    "name": "ipython",
    "version": 3
   },
   "file_extension": ".py",
   "mimetype": "text/x-python",
   "name": "python",
   "nbconvert_exporter": "python",
   "pygments_lexer": "ipython3",
   "version": "3.9.18"
  }
 },
 "nbformat": 4,
 "nbformat_minor": 2
}
